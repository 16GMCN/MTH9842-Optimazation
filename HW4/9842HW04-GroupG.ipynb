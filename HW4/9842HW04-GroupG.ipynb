{
 "cells": [
  {
   "cell_type": "markdown",
   "metadata": {},
   "source": [
    "### Problem 1\n"
   ]
  },
  {
   "cell_type": "markdown",
   "metadata": {},
   "source": [
    "#### (a)"
   ]
  },
  {
   "cell_type": "markdown",
   "metadata": {},
   "source": [
    "$$\n",
    "L=-\\sum_{i=1}^n \\log x_i+\\lambda(\\sum_{i=1}^n x_i-1)\n",
    "$$\n",
    "\n",
    "$$\n",
    "\\frac{\\partial L}{\\partial x_i}=-\\frac{1}{x_i}+\\lambda=0\n",
    "$$\n",
    "$$\n",
    "\\frac{\\partial L}{\\partial \\lambda}=\\sum_{i=1}^n x_i-1=0\n",
    "$$\n",
    "\n",
    "From the first equation, we conclude that all $x_i$ are equal and we plug this conclusion in the second equation and get\n",
    "\n",
    "$$\n",
    "x_i^*=\\frac{1}{n}\n",
    "$$\n",
    "$$\n",
    "\\lambda^*=n\n",
    "$$\n"
   ]
  },
  {
   "cell_type": "markdown",
   "metadata": {},
   "source": [
    "#### (b)\n",
    "$$\n",
    "q(\\lambda)=inf  L(x,\\lambda)=inf (-\\sum_{i=1}^n\\log x_i+\\lambda(Ax-b)^T)\n",
    "$$\n",
    "\n",
    "$$\n",
    "\\frac{\\partial L}{\\partial x_i}=-\\frac{1}{x_i}+(A^T\\lambda)_i\n",
    "$$\n",
    "\n",
    "When $\\frac{\\partial L}{\\partial x_i}=0$, $L$ reaches its minima, so we have\n",
    "\n",
    "$$\n",
    "x_i=\\frac{1}{(A^T\\lambda)_i}\n",
    "$$\n",
    "\n",
    "We plug this into q and get\n",
    "\n",
    "$$\n",
    "q(\\lambda)=\\sum_{i=1}^n\\log(A^T\\lambda)_i-\\lambda b^T+n\n",
    "$$\n",
    "\n",
    "This is the dual problem"
   ]
  },
  {
   "cell_type": "markdown",
   "metadata": {},
   "source": [
    "#### (c)\n",
    "\n",
    "From (b), we already showed that the first derivative or $L$ w.r.t. $x_i$ equals to 0 gives \n",
    "\n",
    "$$\n",
    "x_i=\\frac{1}{(A^T\\lambda)_i}\n",
    "$$"
   ]
  },
  {
   "cell_type": "markdown",
   "metadata": {},
   "source": [
    "#### (d)"
   ]
  },
  {
   "cell_type": "code",
   "execution_count": 14,
   "metadata": {},
   "outputs": [],
   "source": [
    "import numpy as np\n",
    "\n",
    "# objective function\n",
    "def f(x):\n",
    "    return -np.sum(np.log(x))\n",
    "\n",
    "# gradient\n",
    "def gradient(x):\n",
    "    g = np.array(-1/x)\n",
    "    g.shape = (x.size,1)\n",
    "    return g\n",
    "\n",
    "# hessian\n",
    "def hessian(x):\n",
    "    h = np.array(1/np.square(x))\n",
    "    return np.matrix(np.diagflat(h))\n",
    "\n",
    "# inverse of hessian (x**2)\n",
    "def hessian_inverse(x):\n",
    "    h = np.array(np.square(x))\n",
    "    return np.matrix(np.diagflat(h))\n",
    "\n",
    "# backtracking line search\n",
    "def line_search(func, grad, x, dx, alpha = 0.1, beta = 0.5, epsilon = 1e-8):\n",
    "    t = 1\n",
    "    while (func(x+t*dx) >= func(x) + alpha*t*np.transpose(grad)*dx ):\n",
    "        t = beta*t\n",
    "    return np.matrix(x + t*dx)\n",
    "\n",
    "# newton's method\n",
    "# func, grad, hess, hinv = the objective function, its gradient and hessian\n",
    "# A, b = constraints\n",
    "# x_0 = initial guess, must be feasible\n",
    "# trajectory = output vector \n",
    "# max_steps, epsilon = exit criteria\n",
    "def newton(func, grad, hess, hinv, \n",
    "           A, b, x_0, \n",
    "           max_steps=500, epsilon=1e-8):\n",
    "    x = x_0\n",
    "    #vector saving the trajectories for each run\n",
    "    trajectory = []\n",
    "    for i in range(max_steps):\n",
    "        g = grad(x)\n",
    "        H = hess(x)\n",
    "        H_inv = hinv(x)\n",
    "        A_t = np.transpose(A)\n",
    "        \n",
    "        #calculate decrement and step using Schur decomposition\n",
    "        S = np.linalg.inv(A*H_inv*A_t) # Schur complement\n",
    "        dx = -(H_inv*g + H_inv*A_t*S*A*H_inv*g\n",
    "        decrement = -S*A*H_inv*g\n",
    "        \n",
    "        #calculate decrement and step (try with solve directly)\n",
    "        #decrement = np.linalg.solve(A*H_inv*A_t,-A*H_inv*g)\n",
    "        #dx = -H_inv*(A_t*decrement + g)\n",
    "        \n",
    "        #estimate distance to optimal solution\n",
    "        error_estimate = np.transpose(dx)*H*dx / 2\n",
    "        trajectory.append(error_estimate[0,0])\n",
    "        # if we estimate being very close to the solution, end\n",
    "        if error_estimate[0,0] <= epsilon:\n",
    "            return x, trajectory\n",
    "        \n",
    "        # otherwise, perform line search to find a new x\n",
    "        new_x = line_search(func, g, x, dx)\n",
    "        x = new_x\n",
    "    \n",
    "    # the maximum number of iterations allowed has been performed, return.\n",
    "    print(\"Maximum number of iteration steps run, returning current solution\")\n",
    "    return x, trajectory"
   ]
  },
  {
   "cell_type": "code",
   "execution_count": 24,
   "metadata": {},
   "outputs": [
    {
     "data": {
      "image/png": "[encoded data removed]",
      "text/plain": [
       "<Figure size 432x288 with 1 Axes>"
      ]
     },
     "metadata": {},
     "output_type": "display_data"
    }
   ],
   "source": [
    "import matplotlib.pyplot as plt\n",
    "p = 100\n",
    "n = 500\n",
    "experiments = 5\n",
    "\n",
    "for i in range(experiments):\n",
    "    # define constraints and initial point\n",
    "    # x_0 needs to be feasible, the easiest way to do this \n",
    "    # is to generate b from a given A and x_0\n",
    "    A= np.random.rand(p,n)\n",
    "    x_0 = np.random.rand(n,1)\n",
    "    b = np.matmul(A,x_0)\n",
    "\n",
    "    result, traj = newton(f, gradient, hessian, hessian_inverse, A, b, x_0)\n",
    "    plt.semilogy(traj, label = 'Point ' + str(i+1))\n",
    "plt.legend(loc='lower left')\n",
    "plt.xlabel('Number of steps')\n",
    "plt.ylabel('Newton decrement')\n",
    "plt.title('Primal problem convergence')\n",
    "plt.show()"
   ]
  },
  {
   "cell_type": "markdown",
   "metadata": {},
   "source": [
    "#### (e)"
   ]
  },
  {
   "cell_type": "code",
   "execution_count": 28,
   "metadata": {},
   "outputs": [],
   "source": [
    "#redefine the objective function and its respective gradient, hessian\n",
    "#and inverse of hessian.\n",
    "def q(A, b, l, n):\n",
    "    A_t = np.transpose(A)\n",
    "    b_t = np.transpose(b)\n",
    "    return np.sum(np.log(A_t*l)) - b_t*l + n  \n",
    "\n",
    "# gradient\n",
    "def gradient_dual(b, l):\n",
    "    b_t = np.transpose(b)\n",
    "    g = np.array(1/l) \n",
    "    g.shape = (l.size,1)\n",
    "    return g - b_t\n",
    "\n",
    "# hessian\n",
    "def hessian_dual(l):\n",
    "    h = -np.array(1/np.square(l))\n",
    "    return np.matrix(np.diagflat(h))\n",
    "\n",
    "# inverse of hessian\n",
    "def hessian_inverse_dual(l):\n",
    "    h = np.array(np.square(l))\n",
    "    return np.matrix(np.diagflat(h))\n",
    "\n",
    "# newton's unconstrained method\n",
    "# func, grad, hess, hinv = the objective function, its gradient and hessian\n",
    "# x_0 = initial guess, must be feasible\n",
    "# trajectory = output vector \n",
    "# max_steps, epsilon = exit criteria\n",
    "def newton_unconstrained(func, grad, hess, hinv, A, b, x_0, \n",
    "                         max_steps=500, epsilon=1e-8):\n",
    "    pass"
   ]
  },
  {
   "cell_type": "code",
   "execution_count": 29,
   "metadata": {},
   "outputs": [
    {
     "ename": "TypeError",
     "evalue": "'NoneType' object is not iterable",
     "output_type": "error",
     "traceback": [
      "\u001b[1;31m---------------------------------------------------------------------------\u001b[0m",
      "\u001b[1;31mTypeError\u001b[0m                                 Traceback (most recent call last)",
      "\u001b[1;32m<ipython-input-29-db0fd7f16a8f>\u001b[0m in \u001b[0;36m<module>\u001b[1;34m()\u001b[0m\n\u001b[0;32m     14\u001b[0m     \u001b[1;31m#TODO\u001b[0m\u001b[1;33m\u001b[0m\u001b[1;33m\u001b[0m\u001b[0m\n\u001b[0;32m     15\u001b[0m     result, traj = newton_unconstrained(q, gradient_dual, hessian_dual, \n\u001b[1;32m---> 16\u001b[1;33m                                         hessian_inverse_dual, A, b, l)\n\u001b[0m\u001b[0;32m     17\u001b[0m     \u001b[0mplt\u001b[0m\u001b[1;33m.\u001b[0m\u001b[0msemilogy\u001b[0m\u001b[1;33m(\u001b[0m\u001b[0mtraj\u001b[0m\u001b[1;33m,\u001b[0m \u001b[0mlabel\u001b[0m \u001b[1;33m=\u001b[0m \u001b[1;34m'Point '\u001b[0m \u001b[1;33m+\u001b[0m \u001b[0mstr\u001b[0m\u001b[1;33m(\u001b[0m\u001b[0mi\u001b[0m\u001b[1;33m+\u001b[0m\u001b[1;36m1\u001b[0m\u001b[1;33m)\u001b[0m\u001b[1;33m)\u001b[0m\u001b[1;33m\u001b[0m\u001b[0m\n\u001b[0;32m     18\u001b[0m \u001b[0mplt\u001b[0m\u001b[1;33m.\u001b[0m\u001b[0mlegend\u001b[0m\u001b[1;33m(\u001b[0m\u001b[0mloc\u001b[0m\u001b[1;33m=\u001b[0m\u001b[1;34m'lower left'\u001b[0m\u001b[1;33m)\u001b[0m\u001b[1;33m\u001b[0m\u001b[0m\n",
      "\u001b[1;31mTypeError\u001b[0m: 'NoneType' object is not iterable"
     ]
    }
   ],
   "source": [
    "import matplotlib.pyplot as plt\n",
    "p = 100\n",
    "n = 500\n",
    "experiments = 5\n",
    "\n",
    "for i in range(experiments):\n",
    "    # define constraints and initial point\n",
    "    # x_0 needs to be feasible, the easiest way to do this \n",
    "    # is to generate b from a given A and x_0\n",
    "    A= np.random.rand(p,n)\n",
    "    x_0 = np.random.rand(n,1)\n",
    "    b = np.matmul(A,x_0)\n",
    "    #generate the dual initial point \n",
    "    #TODO\n",
    "    result, traj = newton_unconstrained(q, gradient_dual, hessian_dual, \n",
    "                                        hessian_inverse_dual, A, b, l)\n",
    "    plt.semilogy(traj, label = 'Point ' + str(i+1))\n",
    "plt.legend(loc='lower left')\n",
    "plt.xlabel('Number of steps')\n",
    "plt.ylabel('Newton decrement')\n",
    "plt.title('Primal problem convergence')\n",
    "plt.show()"
   ]
  },
  {
   "cell_type": "markdown",
   "metadata": {},
   "source": [
    "### Problem 2"
   ]
  },
  {
   "cell_type": "markdown",
   "metadata": {},
   "source": [
    "#### (a)"
   ]
  },
  {
   "cell_type": "markdown",
   "metadata": {},
   "source": [
    "\\begin{equation}\n",
    "\\left[ \\begin{array}{cc}\n",
    "H & A^T \\\\\n",
    "A & 0 \\\\\n",
    "\\end{array} \n",
    "\\right ]\n",
    "\\left[ \\begin{array}{c}\n",
    "x_1 \\\\\n",
    "x_2 \\\\\n",
    "\\end{array} \n",
    "\\right ]\n",
    "=\n",
    "\\left[ \\begin{array}{c}\n",
    "Hx_1+A^Tx_2 \\\\\n",
    "Ax_1 \\\\\n",
    "\\end{array} \n",
    "\\right ]\n",
    "\\end{equation}\n",
    "\n",
    "To see it is nonsingular, we prove its Null-space is {0}. \n",
    "\n",
    "We let the fist equation equals to 0. $Ax_1=0$. If $x_1=0$, then $Hx_1=0$. We have $A^Tx_2=0$. Because the rank of A equals to p. So $x_2$ must equal to 0. In this case, both $x_1$ and $x_2$ equal to 0.\n",
    "\n",
    "Now, we discuss under given statement, if $x_1\\ne 0$ there should be a contradition. Hence we prove Null-space of KKT matrix is {0}."
   ]
  },
  {
   "cell_type": "markdown",
   "metadata": {},
   "source": [
    "##### (i)\n",
    "If there is a $x_1\\ne 0$ that $Ax_1=0$, then we have $x_1^THx_1=-x_1^TA^Tx_2=-(Ax_1)^Tx_2=0$. This implies $Hx_1=0$, which contradict with the intersection of A and H's Null-space is {0}.\n",
    "\n",
    "To see this, we write $H=V^TV$. As H is spsd, there always exist such V. $x_1^THx_1$ equals to $|Vx_1|^2=0$. So $Vx_1=0$. So $V^TVx_1=Hx_1=0$"
   ]
  },
  {
   "cell_type": "markdown",
   "metadata": {},
   "source": [
    "##### (ii)\n",
    "\n",
    "If $x_1 \\ne 0$, then $Hx_1=-A^Tx_2$. We multiply $x_1^T$ from left and get $x_1^THx_1=-x_1^TA^Tx_2=-(Ax_1)^Tx_2=0$. But by statement, $Ax=0$ and $x\\ne 0$ implies $x^THx>0$, this causes contradiction. So $x_1$ must equal to 0 and $x_2$ must equal to 0 as well. Hence we prove the Null-space of KKT matrix is {0}.\n"
   ]
  },
  {
   "cell_type": "markdown",
   "metadata": {},
   "source": [
    "##### (iii)\n",
    "Because $F^THF$ is spd, $y^TF^THFy>0$ for any $y\\ne 0$. And $Fy$ belongs to range of F. Because range of F is also the Null-space of A. We have $AFy=0$.\n",
    "\n",
    "Let us regard $Fy$ as x. So for any x where $Ax=0$ and $x\\ne 0$, we have $x^THx>0$. This goes back to (ii). So we have KKT matrix is nonsingular."
   ]
  },
  {
   "cell_type": "markdown",
   "metadata": {},
   "source": [
    "##### (iv)\n",
    "$x_1^T(H+A^TQA)x_1>0$ for any $x_1\\ne 0$.\n",
    "\n",
    "So $Ax=0$ and $x\\ne 0$ implies $x_1^T(H+A^TQA)x_1=x_1^THx_1>0$. This goes back to (ii) hence we have KKT matrix is nonsingular. "
   ]
  },
  {
   "cell_type": "markdown",
   "metadata": {},
   "source": [
    "#### (b)"
   ]
  },
  {
   "cell_type": "markdown",
   "metadata": {},
   "source": [
    "It's obvious that \n",
    "$x_1^T(H+A^TA)x_1>0$ for any $x_1\\ne 0$.\n",
    "Thus, $H+A^TA$ is positive definite, which means it's congruence to unit matrix $I$.\n",
    "\n",
    "There exists nonsingular matrix $R ∈ R^{n*n}$ such that\n",
    "$R^T(P+A^TA)R = I$\n",
    "\n",
    "Then, do singular value decomposition on $AR$, we have $AR=UΣV_1^T$.\n",
    "\n",
    "Here, \n",
    "$ U ∈ R^{p×p}$,$Σ = diag(σ_1,...,σ_p) ∈ R^{p×p} $,and $ V_1 ∈ R^{n×p} $ is unitary matrix.\n",
    "\n",
    "Since $V_1$ is unitary, we can denote $V_2$ as another matrix who makes \n",
    "$V = [V_1,V_2]$ orthogonal. \n",
    "\n",
    "Define $S= [Σ,0] ∈R^{p×n}$, then $AR=USV^T$."
   ]
  },
  {
   "cell_type": "markdown",
   "metadata": {},
   "source": [
    "Now we have\n",
    "\n",
    "$V^TR^T(P+A^TA)RV =V^TR^TPRV +S^TS=I.$\n",
    "\n",
    "Therefore $V^TR^TPRV$ is diagonal, \n",
    "\n",
    "denote\n",
    "$Λ=V^TR^TPRV =diag(1−σ_1^2,...,1−σ_p^2,1,...,1).$\n",
    "\n",
    "Apply congruence transformation to KKT matrix:"
   ]
  },
  {
   "cell_type": "markdown",
   "metadata": {},
   "source": [
    " \\begin{equation}\n",
    " \\left[ \\begin{array}{cc}\n",
    "V^TR^T & 0 \\\\\n",
    "0 & U^T \\\\\n",
    "\\end{array} \n",
    "\\right ]\n",
    "\\left[ \\begin{array}{cc}\n",
    "P & A^T \\\\\n",
    "A & 0 \\\\\n",
    "\\end{array} \n",
    "\\right ]\n",
    "\\left[ \\begin{array}{cc}\n",
    "RV & 0 \\\\\n",
    "0 & U \\\\\n",
    "\\end{array} \n",
    "\\right ]\n",
    "=\n",
    "\\left[ \\begin{array}{cc}\n",
    "Λ & S^T\\\\\n",
    "S & 0 \\\\\n",
    "\\end{array} \n",
    "\\right ]\n",
    "\\end{equation}"
   ]
  },
  {
   "cell_type": "markdown",
   "metadata": {},
   "source": [
    "Observe the righthand matrix, apply a permutation to the matrix gives a block diagonal matrix\n",
    "with n diagonal blocks\n",
    "$\\left[ \n",
    "\\begin{array}{cc}\n",
    "λ_i & σ_i \\\\\n",
    "σ_i & 0 \\\\\n",
    "\\end{array} \n",
    "\\right ]$\n",
    "  , i=1,...,p\n",
    "  \n",
    "  $ λ_i =1$, i=p+1,...,n.\n",
    "  \n",
    "\n",
    "The eigenvalues of the 2 × 2-blocks are\n",
    "$\n",
    " \\frac{λ_i ±  \\sqrt{λ_i^2 + 4 σ_i^2}}{ 2}$i.e., \n",
    " \n",
    " one eigenvalue is positive and one is negative. We conclude that there are p + (n − p) = n positive eigenvalues and p negative eigenvalues."
   ]
  }
 ],
 "metadata": {
  "kernelspec": {
   "display_name": "Python 3",
   "language": "python",
   "name": "python3"
  },
  "language_info": {
   "codemirror_mode": {
    "name": "ipython",
    "version": 3
   },
   "file_extension": ".py",
   "mimetype": "text/x-python",
   "name": "python",
   "nbconvert_exporter": "python",
   "pygments_lexer": "ipython3",
   "version": "3.7.0"
  }
 },
 "nbformat": 4,
 "nbformat_minor": 2
}
