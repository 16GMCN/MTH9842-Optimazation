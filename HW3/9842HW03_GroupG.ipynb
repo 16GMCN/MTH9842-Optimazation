{
 "cells": [
  {
   "cell_type": "markdown",
   "metadata": {},
   "source": [
    "## Homework 3 - Group G (Zhao,Chenyu / Mao,Shenyi / Ferreira,Jose / Jiang,Yueting)"
   ]
  },
  {
   "cell_type": "markdown",
   "metadata": {},
   "source": [
    "### Problem 1"
   ]
  },
  {
   "cell_type": "markdown",
   "metadata": {},
   "source": [
    "#### (i)\n",
    "\n",
    "$f(x)$ is log-concave if:\n",
    "* $f(x)>0, \\forall x \\in \\mathbb{R}^n$ \n",
    "* $log(f(x))$ is concave\n",
    "\n",
    "All probability distributions in the list satisfy the first condition. We need to check the concavity of their logarithm.\n",
    "\n",
    "**Normal distribution**\n",
    "$$\n",
    "\\begin{align*}\n",
    "f(x) =& \\frac{1}{\\sqrt{2 \\pi \\sigma^2}} e^{-\\frac{(x-\\mu)}{2\\sigma^2}}\\\\\n",
    "log(f(x)) =&-\\frac{1}{2}log(2\\pi \\sigma^2) - \\frac{(x-\\mu)}{2\\sigma^2}\\\\\n",
    "\\frac{\\partial}{\\partial x} (log(f(x))) =&- \\frac{(x-\\mu)}{\\sigma^2}\\\\\n",
    "\\frac{\\partial ^2}{\\partial x^2} (log(f(x))) =&- \\frac{1}{\\sigma^2} < 0, \\forall x \\\\\n",
    "\\implies& f(x) \\text{ is log-concave}\\\\\n",
    "\\end{align*}\n",
    "$$\n",
    "\n",
    "**Multinormal distribution**\n",
    "$$\n",
    "\\begin{align*}\n",
    "f(x) =& \\frac{1}{(2 \\pi)^{n/2} \\det(\\Sigma)^{1/2}}  e^{-\\frac{1}{2}(x-\\mu)^T\\Sigma^{-1}(x-\\mu)}\\\\\n",
    "log(f(x)) =&-\\frac{1}{2}(x-\\mu)^T\\Sigma^{-1}(x-\\mu)-\\frac{1}{2}log(2\\pi \\det(\\Sigma)^{1/2})\\\\\n",
    "\\frac{\\partial}{\\partial x} (log(f(x))) =&-\\frac{1}{2}\\left(\\Sigma^{-1} + \\Sigma^{-T}\\right)(x-\\mu)\\\\\n",
    "\\frac{\\partial ^2}{\\partial x^2} (log(f(x))) =&- \\Sigma^{-1} < 0, \\forall x \\\\\n",
    "\\implies& f(x) \\text{ is log-concave}\\\\\n",
    "\\end{align*}\n",
    "$$\n",
    "\n",
    "**Exponential distribution**\n",
    "$$\n",
    "\\begin{align*}\n",
    "f(x) =& \\lambda e^{-\\lambda x}\\\\\n",
    "log(f(x)) =& log(\\lambda) - \\lambda x \\\\\n",
    "\\frac{\\partial}{\\partial x} (log(f(x))) =&-\\lambda\\\\\n",
    "\\frac{\\partial ^2}{\\partial x^2} (log(f(x))) =& 0, \\forall x \\\\\n",
    "\\implies& f(x) \\text{ is log-concave (also log-convex)}\\\\\n",
    "\\end{align*}\n",
    "$$\n",
    "\n",
    "**Logistic distribution**\n",
    "$$\n",
    "\\begin{align*}\n",
    "f(x) =& \\frac{e^{-\\frac{x-\\mu}{\\beta}}}{\\beta\\left(1+e^{-\\frac{x-\\mu}{\\beta}}\\right)^2}\\\\\n",
    "log(f(x)) =& -\\frac{x-\\mu}{\\beta}-log(\\beta)-2log\\left(1+ e^{-\\frac{x-\\mu}{\\beta}} \\right)\\\\\n",
    "\\frac{\\partial}{\\partial x} (log(f(x))) =&-\\frac{1}{\\beta} + \\frac{2e^{-\\frac{x-\\mu}{\\beta}}}{\\beta\\left( e^{-\\frac{x-\\mu}{\\beta}} \\right)}\\\\\n",
    "\\frac{\\partial ^2}{\\partial x^2} (log(f(x))) =& - \\frac{2e^{-\\frac{x-\\mu}{\\beta}}}{\\beta^2\\left( e^{-\\frac{x-\\mu}{\\beta}} \\right)^2} < 0, \\forall x \\\\\n",
    "\\implies& f(x) \\text{ is log-concave}\\\\\n",
    "\\end{align*}\n",
    "$$"
   ]
  },
  {
   "cell_type": "markdown",
   "metadata": {},
   "source": [
    "#### (ii)\n",
    "Assuming $q=q(\\theta)$ is log-concave:\n",
    "\\begin{align}\n",
    "f(\\theta) =& KL(p||q(\\theta))\\\\ \n",
    "=& \\sum_{i=0}^n p_i log\\left(\\frac{p_i}{q_i(\\theta)}\\right)\\\\   \n",
    "=& \\sum_{i=0}^n p_i ( log(p_i) - log(q_i(\\theta))\\\\\n",
    "=& \\sum_{i=0}^n p_i ( log(p_i) - log(q_i(\\theta))\\\\\n",
    "=& \\sum_{i=0}^n p_ilog(p_i) - p_ilog(q_i(\\theta))\\\\\n",
    "&\\implies f''(\\theta) = \\left(-\\sum_{i=0}^n p_i log(q_i(\\theta))\\right)''\n",
    "\\end{align}\n",
    "\n",
    "$(log(q_i(\\theta)))'' < 0$ since $q(\\theta)$ is concave and therefore the full expression is larger than zero which in turn implies that $f(\\theta)$ is convex."
   ]
  },
  {
   "cell_type": "markdown",
   "metadata": {},
   "source": [
    "### Problem 2"
   ]
  },
  {
   "cell_type": "markdown",
   "metadata": {},
   "source": [
    "The Lagrange multiplier function is:\n",
    "$$\\mathcal{L}(x,\\lambda,\\mu) = \\frac{1}{2}x^TAx + a^Tx + b + \\sum_{i=1}^3 \\lambda_i(x_i-1) +  \\sum_{i=1}^3 \\mu_i(-1-x_i)$$\n",
    "\n",
    "The KKT conditions are:\n",
    "\n",
    "$$\n",
    "\\begin{align}\n",
    "-1 \\leq x_i^* \\leq 1 && i=1,2,3 && \\text{(1)}\\\\\n",
    "\\lambda_i^* \\geq 0 && i=1,2,3 && \\text{(2)}\\\\\n",
    "\\mu_i^* \\geq 0 && i=1,2,3 && \\text{(3)}\\\\\n",
    "\\lambda_i^*(x_i-1) = 0 && i=1,2,3 && \\text{(4)}\\\\\n",
    "\\mu_i^*(-1-x_i) = 0 && i=1,2,3 && \\text{(5)}\\\\\n",
    "Ax + a + \\lambda - \\mu = 0 && && \\text{(6)}\\\\\n",
    "\\end{align}\n",
    "$$\n",
    "Writing (6) in explicit form:\n",
    "$$\n",
    "\\begin{align}\n",
    "13x_1 + 12x_2 - 2x_3 - 22 + \\lambda_1 - \\mu_1 = 0 && \\text{(6.1)}\\\\\n",
    "12x_1 + 17x_2 + 6x_3 - 14.5  + \\lambda_2 - \\mu_2 = 0 && \\text{(6.2)}\\\\\n",
    "-2x_1 + 6x_2 +  12x_3 + 13 + \\lambda_3 - \\mu_3 = 0 && \\text{(6.3)}\\\\\n",
    "\\end{align}\n",
    "$$\n",
    "\n",
    "From (4) and (5), we know $\\lambda_2^* = 0$, $\\lambda_3^* = 0$, $\\mu_1^* = 0$ and $\\mu_2^* = 0$.\n",
    "\n",
    "From (6) we have $\\lambda_1^* = 5$, $\\mu_3 = 2$\n",
    "\n",
    "And (6.2) is satisfied with $a^T = (-22, -14.5, 13)$.\n",
    "\n",
    "Therefore, there exists $(\\lambda^*,\\mu^*) \\in \\mathbb{R}$ such that the KKT conditions are satisfied and, as a result, the solution is optimal.\n",
    "\n",
    "----\n",
    "Alternatively and according to section 4.2.3 of Boyd and Vanderberghe's Convex Optimization: \n",
    "\n",
    "If the objective function $f_0$ is differentiable, $x^*$ is optimal if and only if:\n",
    "\n",
    "$$\\nabla f_0(x^*)^T(y-x^*) \\geq 0,  \\forall y \\in x$$\n",
    "\n",
    "Therefore, given $f_0(x^*) = \\frac{1}{2}x^{*T}Ax^* + a^Tx^* + b$ :\n",
    "$$\n",
    "\\begin{align}\n",
    "\\nabla f_0(x^*) =& Ax^* + a\\\\\n",
    "=& \\begin{bmatrix}13&12&-2\\\\12&17&6\\\\-2&6&12\\end{bmatrix} \\begin{bmatrix}1\\\\0.5\\\\-1\\end{bmatrix} + \\begin{bmatrix}-22\\\\-14.5\\\\13\\end{bmatrix}\\\\\n",
    "=& \\begin{bmatrix}-1\\\\0\\\\2\\end{bmatrix}\\\\\n",
    "\\end{align}\n",
    "$$\n",
    "\n",
    "$$\n",
    "\\begin{align}\n",
    "\\nabla f_0(x^*)^T(y-x^*) =& \\begin{bmatrix}-1&0&2\\end{bmatrix}(y-x^*)\\\\\n",
    "=& -(y_1-1)+2(y_3+1) \\geq 0 & \\text{ given that } -1 \\leq y_i \\leq 1 \\\\ \n",
    "\\end{align}\n",
    "$$"
   ]
  },
  {
   "cell_type": "code",
   "execution_count": null,
   "metadata": {},
   "outputs": [],
   "source": []
  }
 ],
 "metadata": {
  "kernelspec": {
   "display_name": "Python 3",
   "language": "python",
   "name": "python3"
  },
  "language_info": {
   "codemirror_mode": {
    "name": "ipython",
    "version": 3
   },
   "file_extension": ".py",
   "mimetype": "text/x-python",
   "name": "python",
   "nbconvert_exporter": "python",
   "pygments_lexer": "ipython3",
   "version": "3.7.0"
  }
 },
 "nbformat": 4,
 "nbformat_minor": 2
}
