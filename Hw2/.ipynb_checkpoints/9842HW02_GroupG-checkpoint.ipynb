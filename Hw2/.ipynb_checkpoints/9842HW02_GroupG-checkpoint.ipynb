{
 "cells": [
  {
   "cell_type": "markdown",
   "metadata": {},
   "source": [
    "## Homework 2 - Group G (Zhao,Chenyu / Mao,Shenyi / Ferreira,Jose / Jiang,Yueting)"
   ]
  },
  {
   "cell_type": "markdown",
   "metadata": {},
   "source": [
    "### Problem 1"
   ]
  },
  {
   "cell_type": "markdown",
   "metadata": {},
   "source": [
    "Solve the two-dimensional problem:\n",
    "$$\n",
    "\\begin{align}\n",
    "&\\text{minimize  }& f(x,y)=(x - a)^2 + (y - b)^2\\\\ \n",
    "&\\text{subject to  }& 0 \\leq x \\leq 1\\\\\n",
    "&&0 \\leq y \\leq 1\\\\\n",
    "\\end{align}\n",
    "$$"
   ]
  },
  {
   "cell_type": "markdown",
   "metadata": {},
   "source": [
    "The values of $x$ and $y$ that minimize $f(x,y)$ depend on the values of $a$ and $b$.\n",
    "\n",
    "* For values of $a$ that are inside the range of $x$, i.e. $a \\in [0,1]$, the value of $x$ that minimizes the expression is $x^*=a$\n",
    "* For $a>1$, the minimum is attained with $x^*=1$\n",
    "* For $a<0$, the minimum is attained with $x^*=0$\n",
    "\n",
    "Simmetrically for $y$, the values that minimize $f(x,y)$ depend on the value of $b$:\n",
    "* $b \\in [0,1] \\implies y^*=b$\n",
    "* $b>1 \\implies y^*=1$\n",
    "* $b<0 \\implies y^*=0$"
   ]
  },
  {
   "cell_type": "markdown",
   "metadata": {},
   "source": [
    "### Problem 2"
   ]
  },
  {
   "cell_type": "markdown",
   "metadata": {},
   "source": [
    "Formulate the following nonlinear problem:\n",
    "$$\n",
    "\\begin{align}\n",
    "&\\text{minimize  }& f(x_1,x_2)=2x_1 + 3|x_2-10|\\\\ \n",
    "&\\text{subject to  }& |x_1+2| + |x_2| \\leq 5\\\\\n",
    "\\end{align}\n",
    "$$\n",
    "as an LP problem."
   ]
  },
  {
   "cell_type": "markdown",
   "metadata": {},
   "source": [
    "Let $x_3 = x_2 -10$ and $x_4 = x_1+2$ the above is therefore equivalent to:\n",
    "$$\n",
    "\\begin{align}\n",
    "&\\text{minimize  }& f(x_1,x_2,x_3,x_4)=2x_1 + 3|x_3|\\\\ \n",
    "&\\text{subject to  }& |x_4| + |x_2| \\leq 5\\\\\n",
    "&&x_3 = x_2 -10\\\\\n",
    "&&x_4 = x_1+2\\\\\n",
    "\\end{align}\n",
    "$$\n",
    "\n",
    "Where $|x_2|$, $|x_3|$ and $|x_4|$ are unrestricted non-negative variables that can be expressed as:\n",
    "* $|x_2| = x_2^+ + x_2^-$; $x_2^+\\geq 0,x_2^- \\geq 0$ \n",
    "* $|x_3| = x_2^+ + x_2^-$; $x_2^+\\geq 0,x_2^- \\geq 0$ \n",
    "* $|x_4| = x_2^+ + x_2^-$; $x_2^+\\geq 0,x_2^- \\geq 0$\n",
    "\n",
    "This allows us to express the nonlinear problem as an LP problem which in its standard form would be:\n",
    "\n",
    "$$\n",
    "\\begin{align}\n",
    "&\\text{minimize  }& f(x_1,x_2^+,x_2^-,x_3^+,x_3^-,x_4^+,x_4^-,s_1)=2x_1 + 3(x_3^+ + x_3^-)\\\\ \n",
    "&\\text{subject to  }& x_4^+ + x_4^- + x_2^+ + x_2^- + s_1 = 5\\\\\n",
    "&&x_3^+ - x_3^- - x_2^+ + x_2^- = -10\\\\\n",
    "&&x_4^+ - x_4^- -x_1 =2\\\\\n",
    "&&x_2^+,x_2^-,x_3^+,x_3^-,x_4^+,x_4^-,s_1 \\geq 0\\\\\n",
    "\\end{align}\n",
    "$$\n",
    "\n",
    "Therefore, the standard form of the problem is:\n",
    "$$\n",
    "\\begin{align}\n",
    "&\\text{minimize  }& c^Tx\\\\ \n",
    "&\\text{subject to  }& Ax = b\\\\\n",
    "&&x \\geq 0\\\\\n",
    "\\end{align}\n",
    "$$\n",
    "where\n",
    "\n",
    "$$\n",
    "\\begin{align}\n",
    "c^T =& \\begin{bmatrix}2& 0& 0& 3& 3& 0& 0& 0\\end{bmatrix}\\\\\n",
    "x =& \\begin{bmatrix}x_1& x_2^+& x_2^-& x_3^+& x_3^-& x_4^+& x_4^-& s_1\\end{bmatrix}\\\\\n",
    "A =& \\begin{bmatrix}0& 1& 1& 0& 0& 1& 1& 1\\\\0& -1& 1& 1& -1& 0& 0& 0\\\\-1& 0& 0& 0& 0& 1& -1& 0\\\\\\end{bmatrix}\\\\\n",
    "b^T =& \\begin{bmatrix}5& -10& 2\\end{bmatrix}\\\\\n",
    "\\end{align}\n",
    "$$"
   ]
  },
  {
   "cell_type": "markdown",
   "metadata": {},
   "source": [
    "### Problem 3"
   ]
  },
  {
   "cell_type": "markdown",
   "metadata": {},
   "source": [
    "Consider an FX market in which there are $N$ currencies available for trading,\n",
    "and assume that one unit of currency $i$ can be exchanged for $f_{ij}$ units\n",
    "of currency $j$. Assume that there is a limit $u_i$ on the total amount of currency $i$ that can be traded on any given day. \n",
    "\n",
    "Suppose that we start with $B$ units of currency $1$ and we would like to maximize the number of units of currency $N$ that we end up at the end of the day, through a sequence of trades. \n",
    "\n",
    "Provide an LP formulation of this problem. We require the following\n",
    "no-arbitrage condition: for any sequence of currencies $i_1,\\cdots,i_k$ we\n",
    "have $f_{i_1i_2}f_{i_2i_3} \\cdots f_{i_{k-1}i_k}f_{i_ki_1} \\leq 1$."
   ]
  },
  {
   "cell_type": "markdown",
   "metadata": {},
   "source": [
    "The problem in LP notation is:\n",
    "<!--- $$\n",
    "\\begin{align}\n",
    "&\\text{maximize  }& B(f_{12}f_{23} \\cdots f_{(k-2)(k-1)}f_{(k-1)k})  \\\\ \n",
    "&\\text{subject to  }& Bf_{12} \\leq u_2\\\\\n",
    "&&Bf_{12}f_{23} \\leq u_3\\\\\n",
    "&&\\vdots\\\\\n",
    "&&Bf_{12}f_{23} \\cdots f_{(k-2)(k-1)}  \\leq u_{k-1}\\\\\n",
    "&&f_{12}f_{23} \\cdots f_{{k-1}k}f_{k1} \\leq 1\\\\\n",
    "&&k \\leq N\n",
    "\\end{align}\n",
    "$$ -->\n",
    "\n",
    "\\begin{align}\n",
    "&\\text{maximize  }& b_1f_{1N} + b_2f_{12}f_{2N} + \\cdots b_{(N-1)}f_{1(N-1)}f_{(N-1)N})\\\\ \n",
    "&\\text{subject to  }& b_2f_{12} \\leq u_2\\\\\n",
    "&&b_3f_{13} \\leq u_3\\\\\n",
    "&&\\vdots\\\\\n",
    "&&b_{k-1}f_{1(N-1)}\\leq u_{N-1}\\\\\n",
    "&&b_1 + b_2 + \\cdots + b_{N-1} \\leq B\\\\\n",
    "\\end{align}"
   ]
  },
  {
   "cell_type": "code",
   "execution_count": null,
   "metadata": {},
   "outputs": [],
   "source": []
  }
 ],
 "metadata": {
  "kernelspec": {
   "display_name": "Python 3",
   "language": "python",
   "name": "python3"
  },
  "language_info": {
   "codemirror_mode": {
    "name": "ipython",
    "version": 3
   },
   "file_extension": ".py",
   "mimetype": "text/x-python",
   "name": "python",
   "nbconvert_exporter": "python",
   "pygments_lexer": "ipython3",
   "version": "3.7.0"
  }
 },
 "nbformat": 4,
 "nbformat_minor": 2
}
