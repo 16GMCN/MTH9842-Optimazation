{
 "cells": [
  {
   "cell_type": "markdown",
   "metadata": {},
   "source": [
    "## Homework 1 - Group G (Zhao,Chenyu / Mao,Shenyi / Ferreira,Jose / Jiang,Yueting)"
   ]
  },
  {
   "cell_type": "code",
   "execution_count": 1,
   "metadata": {},
   "outputs": [],
   "source": [
    "import pandas as pd\n",
    "from scipy.optimize import least_squares\n",
    "import numpy as np\n",
    "import matplotlib.pyplot as plt"
   ]
  },
  {
   "cell_type": "markdown",
   "metadata": {},
   "source": [
    "### Problem 1"
   ]
  },
  {
   "cell_type": "markdown",
   "metadata": {},
   "source": [
    "We use the Levenberg-Marquardt method to find the best fit $g(x, T)$ by minimizing its corresponding cost function:"
   ]
  },
  {
   "cell_type": "code",
   "execution_count": 2,
   "metadata": {},
   "outputs": [],
   "source": [
    "# Load the observation data\n",
    "df=pd.read_csv(\"Assignment1_data.csv\",header=None)\n",
    "T=np.array(df[0])\n",
    "S=np.array(df[1])"
   ]
  },
  {
   "cell_type": "code",
   "execution_count": 3,
   "metadata": {},
   "outputs": [],
   "source": [
    "# Define the model and the function to be minimized\n",
    "def model(x, t):\n",
    "    return x[0] + x[1] * np.exp(x[2] * t) + x[3] * np.exp(x[4]*t)\n",
    "\n",
    "def fun(x, t, y):\n",
    "    return model(x,t) - y"
   ]
  },
  {
   "cell_type": "markdown",
   "metadata": {},
   "source": [
    "An important step for the algorithm is to choose an appropriate initial guess since different initial points will find different local minimums. Ideally we would try to find an analytical solution to this problem by checking the gradient and determining critical points. However, this is not always possible or easy to do. An approach that could help in this situation is to run the least squares fit many times with different initial guesses and choose the results with the minimum cost among the different runs."
   ]
  },
  {
   "cell_type": "code",
   "execution_count": 4,
   "metadata": {},
   "outputs": [
    {
     "name": "stderr",
     "output_type": "stream",
     "text": [
      "C:\\Anaconda3\\lib\\site-packages\\ipykernel_launcher.py:3: RuntimeWarning: overflow encountered in multiply\n",
      "  This is separate from the ipykernel package so we can avoid doing imports until\n",
      "C:\\Anaconda3\\lib\\site-packages\\ipykernel_launcher.py:3: RuntimeWarning: invalid value encountered in add\n",
      "  This is separate from the ipykernel package so we can avoid doing imports until\n"
     ]
    }
   ],
   "source": [
    "# Generate a random vector with uniform distribution between min_range and max_range\n",
    "def draw_uniform_random_vector(n, min_range, max_range):\n",
    "    result = []\n",
    "    for i in range(n):\n",
    "        result.append(np.random.uniform(min_range,max_range))\n",
    "    return result\n",
    "\n",
    "\n",
    "# Determine the number of runs we will attempt.\n",
    "trials = 1000\n",
    "# Choose a range of values near the origin as our observation points are also close to the origin.\n",
    "min_range = -10\n",
    "max_range = 10\n",
    "min_cost = float('inf')\n",
    "min_x = []\n",
    "min_initial = []\n",
    "\n",
    "for i in range(trials):\n",
    "    # generate a random initial guess within the established range\n",
    "    x0=draw_uniform_random_vector(5,min_range, max_range)\n",
    "    # run the least squares minimization\n",
    "    res_lsq = least_squares(fun, x0, args=(T,S),method='lm')\n",
    "    # store the run that results in the minimum cost\n",
    "    if res_lsq.success and res_lsq.cost < min_cost:\n",
    "        min_initial = x0\n",
    "        min_cost = res_lsq.cost\n",
    "        min_x = res_lsq.x"
   ]
  },
  {
   "cell_type": "code",
   "execution_count": 5,
   "metadata": {},
   "outputs": [
    {
     "name": "stdout",
     "output_type": "stream",
     "text": [
      "Best solution found:\n",
      "\n",
      "Initial guess vector\n",
      "[-9.138055  2.936384 -0.926729  4.012429 -6.308785]\n",
      "Solution points\n",
      "[-90.493157  93.155859  -0.001735  -2.002529  -0.327355]\n",
      "Value of the cost function at the solution points\n",
      "0.0018949704698541844\n"
     ]
    }
   ],
   "source": [
    "# Print the results\n",
    "np.set_printoptions(precision=6, suppress=True)\n",
    "print(\"Best solution found:\\n\")\n",
    "print(\"Initial guess vector\")\n",
    "print(np.asfarray(min_initial,float))\n",
    "print(\"Solution points\")\n",
    "print(np.asfarray(min_x,float))\n",
    "print(\"Value of the cost function at the solution points\")\n",
    "print(np.float(min_cost))"
   ]
  },
  {
   "cell_type": "code",
   "execution_count": 6,
   "metadata": {},
   "outputs": [
    {
     "data": {
      "image/png": "[encoded data removed]",
      "text/plain": [
       "<Figure size 432x288 with 1 Axes>"
      ]
     },
     "metadata": {},
     "output_type": "display_data"
    }
   ],
   "source": [
    "# Plot the regression line and the sample data together for visual comparison  \n",
    "test_y = model(min_x,T)\n",
    "plt.plot(T, S, 'o', markersize=4, label='samples')\n",
    "plt.plot(T, test_y, label='fit')\n",
    "plt.xticks(np.arange(1, 11, 1.0))\n",
    "plt.xlabel(\"x\")\n",
    "plt.ylabel(\"y\")\n",
    "plt.legend()\n",
    "plt.show()"
   ]
  },
  {
   "cell_type": "markdown",
   "metadata": {},
   "source": [
    "We will still find multiple solutions to this optimization problem. If the number of observations can be increased or if the number of trials is large enough and the approach to selecting our candidates is refined further, there will be good chances of finding a good solution. For example, the following vectors were found to be initial guesses that result in a good approximation to the empirical data:"
   ]
  },
  {
   "cell_type": "code",
   "execution_count": 7,
   "metadata": {},
   "outputs": [
    {
     "name": "stdout",
     "output_type": "stream",
     "text": [
      "Solution(v1)=[-39.575525  -2.029013  -0.324585  42.26545   -0.003924]\n",
      "Cost(v1)=0.0018949764351424178\n",
      "Solution(v2)=[-37.888775  40.580864  -0.004095  -2.031119  -0.324369]\n",
      "Cost(v2)=0.001894978244618295\n",
      "Solution(v3)[-90.638328  93.301003  -0.001732  -2.002502  -0.327357]\n",
      "Cost(v3)=0.0018949704826973287\n"
     ]
    },
    {
     "data": {
      "image/png": "[encoded data removed]",
      "text/plain": [
       "<Figure size 432x288 with 1 Axes>"
      ]
     },
     "metadata": {},
     "output_type": "display_data"
    }
   ],
   "source": [
    "v1 = [-3.225592, 4.425831, -3.60924, 1.335173, -0.965292]\n",
    "res_lsq1 = least_squares(fun, v1, args=(T, S),method='lm')\n",
    "print(\"Solution(v1)=\" + str(res_lsq1.x))\n",
    "print(\"Cost(v1)=\" + str(res_lsq1.cost))\n",
    "\n",
    "v2 = [-4.854418,  0.202496, -0.511985, 1.951083, -9.80848]\n",
    "res_lsq2 = least_squares(fun, v2, args=(T, S),method='lm')\n",
    "print(\"Solution(v2)=\" + str(res_lsq2.x))\n",
    "print(\"Cost(v2)=\" + str(res_lsq2.cost))\n",
    "\n",
    "v3 = [-4.275311, 0.312809, -0.267237, 4.902038, -3.630587]\n",
    "res_lsq3 = least_squares(fun, v3, args=(T, S),method='lm')\n",
    "print(\"Solution(v3)\" + str(res_lsq3.x))\n",
    "print(\"Cost(v3)=\" + str(res_lsq3.cost))\n",
    "\n",
    "# Plot the fits of the above points \n",
    "test_x = np.linspace(1,10)\n",
    "plt.plot(T, S, 'o', markersize=4, label='samples')\n",
    "plt.plot(test_x, model(res_lsq1.x,test_x), 'gx',label='fit1')\n",
    "plt.plot(test_x, model(res_lsq2.x,test_x), 'r+',label='fit2')\n",
    "plt.plot(test_x, model(res_lsq3.x,test_x), 'c>',label='fit3')\n",
    "plt.xticks(np.arange(0, 11, 1.0))\n",
    "plt.xlabel(\"x\")\n",
    "plt.ylabel(\"y\")\n",
    "plt.legend()\n",
    "plt.show()"
   ]
  },
  {
   "cell_type": "markdown",
   "metadata": {},
   "source": [
    "### Problem 2"
   ]
  },
  {
   "cell_type": "code",
   "execution_count": 8,
   "metadata": {},
   "outputs": [],
   "source": [
    "# Define a discrete linear space to evaluate the Rosenbrock function \n",
    "x0=[]\n",
    "for x in np.arange(0.0, 2.0, 0.1):\n",
    "    for  y in np.arange(0.0, 2.0, 0.1):\n",
    "        x0.append(np.array([x,y]))"
   ]
  },
  {
   "cell_type": "code",
   "execution_count": 9,
   "metadata": {},
   "outputs": [],
   "source": [
    "# Define the function and its gradient\n",
    "def Rosenbrock(x,y):\n",
    "    return (x-1)**2+100*(y-x*x)**2\n",
    "def Gradient(x,y):\n",
    "    return np.array([2*(x-1)-2*x*200*(y-x*x),200*(y-x*x)])"
   ]
  },
  {
   "cell_type": "code",
   "execution_count": 10,
   "metadata": {},
   "outputs": [],
   "source": [
    "# Implements gradient descent\n",
    "def GradientDescent(initial,alpha=0.001,max_it=10000,tol=1e-8):\n",
    "    for i in range(max_it):\n",
    "        last=initial.copy()\n",
    "        g=Gradient(initial[0],initial[1])\n",
    "        initial[0]-=alpha*g[0]\n",
    "        initial[1]-=alpha*g[1]\n",
    "        if np.linalg.norm(initial-last) < tol:\n",
    "            return [True,initial[0],initial[1],i]\n",
    "    return [False,None,None,None]\n",
    "        "
   ]
  },
  {
   "cell_type": "code",
   "execution_count": 11,
   "metadata": {},
   "outputs": [
    {
     "name": "stdout",
     "output_type": "stream",
     "text": [
      "[1. 1.] 1.0 1.0 0\n"
     ]
    }
   ],
   "source": [
    "# Run gradient descent from every point in the space defined, print out the solutions from \n",
    "# convergent runs to the screen\n",
    "for item in x0:\n",
    "    temp=item.copy()\n",
    "    res=GradientDescent(item)\n",
    "    if res[0]:\n",
    "        print(temp,res[1],res[2],res[3])"
   ]
  },
  {
   "cell_type": "markdown",
   "metadata": {},
   "source": [
    "Only the initial guess at (1.,1.) makes this method converge"
   ]
  },
  {
   "cell_type": "markdown",
   "metadata": {},
   "source": [
    "### Problem 3"
   ]
  },
  {
   "cell_type": "code",
   "execution_count": 15,
   "metadata": {},
   "outputs": [],
   "source": [
    "from scipy.optimize import rosen, differential_evolution\n",
    "\n",
    "# Define the ackley function\n",
    "def ackley(x):\n",
    "    arg1 = -0.2 * np.sqrt(0.5 * (x[0] ** 2 + x[1] ** 2))\n",
    "    arg2 = 0.5 * (np.cos(2. * np.pi * x[0]) + np.cos(2. * np.pi * x[1]))\n",
    "    return -20. * np.exp(arg1) - np.exp(arg2) + 20. + np.e\n",
    "\n",
    "# Define the lower and upper bounds for the optimization process\n",
    "bounds = [(0, 2), (0, 2)]\n",
    "bounds2 = [(0, 5), (0, 5)]"
   ]
  },
  {
   "cell_type": "markdown",
   "metadata": {},
   "source": [
    "#### Rosenbrock"
   ]
  },
  {
   "cell_type": "code",
   "execution_count": 16,
   "metadata": {
    "scrolled": true
   },
   "outputs": [
    {
     "name": "stdout",
     "output_type": "stream",
     "text": [
      "latinhypercube 2 :  True , number of iteration:  5\n",
      "latinhypercube 4 :  True , number of iteration:  34\n",
      "latinhypercube 6 :  True , number of iteration:  20\n",
      "latinhypercube 8 :  True , number of iteration:  120\n",
      "latinhypercube 10 :  True , number of iteration:  110\n",
      "latinhypercube 12 :  True , number of iteration:  123\n",
      "latinhypercube 14 :  True , number of iteration:  121\n",
      "latinhypercube 16 :  True , number of iteration:  128\n",
      "latinhypercube 18 :  True , number of iteration:  131\n",
      "latinhypercube 20 :  True , number of iteration:  121\n",
      "random 2 :  True , number of iteration:  13\n",
      "random 4 :  True , number of iteration:  9\n",
      "random 6 :  True , number of iteration:  122\n",
      "random 8 :  True , number of iteration:  112\n",
      "random 10 :  True , number of iteration:  127\n",
      "random 12 :  True , number of iteration:  130\n",
      "random 14 :  True , number of iteration:  115\n",
      "random 16 :  True , number of iteration:  126\n",
      "random 18 :  True , number of iteration:  121\n",
      "random 20 :  True , number of iteration:  117\n"
     ]
    }
   ],
   "source": [
    "# We experimented with the method of creating initial guesses. The Latin Hypercube sampling \n",
    "# tries to maximize coverage of the parameter space. \n",
    "# The other method (random) generates the initial population randomly. \n",
    "for ini in ['latinhypercube','random']:\n",
    "    for pop in range(2,21,2):\n",
    "        result = differential_evolution(rosen, bounds,popsize=pop,init=ini)\n",
    "        print(ini,pop,\": \",result.success,\", number of iteration: \",result.nit)"
   ]
  },
  {
   "cell_type": "markdown",
   "metadata": {},
   "source": [
    "The differential evolution algorithm is able to find solutions to the Rosenbrock function effectively which is something the gradient descent algorithm could not achieve. Interestingly, after a certain population size, the number of iterations necessary remains more or less constant.\n",
    "In regards to the initialization choices, the latin hypercube method performs residually better.  "
   ]
  },
  {
   "cell_type": "markdown",
   "metadata": {},
   "source": [
    "#### Ackley"
   ]
  },
  {
   "cell_type": "code",
   "execution_count": 17,
   "metadata": {},
   "outputs": [
    {
     "name": "stdout",
     "output_type": "stream",
     "text": [
      "latinhypercube 2 :  True , number of iteration:  1\n",
      "latinhypercube 4 :  True , number of iteration:  52\n",
      "latinhypercube 6 :  True , number of iteration:  75\n",
      "latinhypercube 8 :  True , number of iteration:  121\n",
      "latinhypercube 10 :  True , number of iteration:  68\n",
      "latinhypercube 12 :  True , number of iteration:  149\n",
      "latinhypercube 14 :  True , number of iteration:  157\n",
      "latinhypercube 16 :  True , number of iteration:  149\n",
      "latinhypercube 18 :  True , number of iteration:  137\n",
      "latinhypercube 20 :  True , number of iteration:  137\n",
      "random 2 :  True , number of iteration:  17\n",
      "random 4 :  True , number of iteration:  14\n",
      "random 6 :  True , number of iteration:  9\n",
      "random 8 :  True , number of iteration:  13\n",
      "random 10 :  True , number of iteration:  85\n",
      "random 12 :  True , number of iteration:  130\n",
      "random 14 :  True , number of iteration:  145\n",
      "random 16 :  True , number of iteration:  128\n",
      "random 18 :  True , number of iteration:  159\n",
      "random 20 :  True , number of iteration:  161\n"
     ]
    }
   ],
   "source": [
    "# Perform the differential evolution optimization on the Ackley function.\n",
    "for ini in ['latinhypercube','random']:\n",
    "    for pop in range(2,21,2):\n",
    "        result = differential_evolution(ackley, bounds2,popsize=pop,init=ini)\n",
    "        print(ini,pop,\": \",result.success,\", number of iteration: \",result.nit)"
   ]
  },
  {
   "cell_type": "markdown",
   "metadata": {},
   "source": [
    "The results with the Ackley function are similar to the ones obtained with the Rosenbrock function. After a certain population size, the number of iterations needed remains constant."
   ]
  }
 ],
 "metadata": {
  "kernelspec": {
   "display_name": "Python 3",
   "language": "python",
   "name": "python3"
  },
  "language_info": {
   "codemirror_mode": {
    "name": "ipython",
    "version": 3
   },
   "file_extension": ".py",
   "mimetype": "text/x-python",
   "name": "python",
   "nbconvert_exporter": "python",
   "pygments_lexer": "ipython3",
   "version": "3.7.0"
  }
 },
 "nbformat": 4,
 "nbformat_minor": 2
}
