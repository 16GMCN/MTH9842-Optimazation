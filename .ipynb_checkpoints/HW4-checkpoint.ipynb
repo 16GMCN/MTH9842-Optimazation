{
 "cells": [
  {
   "cell_type": "markdown",
   "metadata": {},
   "source": [
    "### Problem 1\n"
   ]
  },
  {
   "cell_type": "markdown",
   "metadata": {},
   "source": [
    "#### (a)"
   ]
  },
  {
   "cell_type": "markdown",
   "metadata": {},
   "source": [
    "$$\n",
    "L=-\\sum_{i=1}^n \\log x_i+\\lambda(\\sum_{i=1}^n x_i-1)\n",
    "$$\n",
    "\n",
    "$$\n",
    "\\frac{\\partial L}{\\partial x_i}=-\\frac{1}{x_i}+\\lambda=0\n",
    "$$\n",
    "$$\n",
    "\\frac{\\partial L}{\\partial \\lambda}=\\sum_{i=1}^n x_i-1=0\n",
    "$$\n",
    "\n",
    "From the first equation, we conclude that all $x_i$ are equal and we plug this conclusion in the second equation and get\n",
    "\n",
    "$$\n",
    "x_i^*=\\frac{1}{n}\n",
    "$$\n",
    "$$\n",
    "\\lambda^*=n\n",
    "$$\n"
   ]
  },
  {
   "cell_type": "markdown",
   "metadata": {},
   "source": [
    "#### (b)\n",
    "$$\n",
    "q(\\lambda)=inf  L(x,\\lambda)=inf (-\\sum_{i=1}^n\\log x_i+\\lambda(Ax-b)^T)\n",
    "$$\n",
    "\n",
    "$$\n",
    "\\frac{\\partial L}{\\partial x_i}=-\\frac{1}{x_i}+(A^T\\lambda)_i\n",
    "$$\n",
    "\n",
    "When $\\frac{\\partial L}{\\partial x_i}=0$, $L$ reaches its minima, so we have\n",
    "\n",
    "$$\n",
    "x_i=\\frac{1}{(A^T\\lambda)_i}\n",
    "$$\n",
    "\n",
    "We plug this into q and get\n",
    "\n",
    "$$\n",
    "q(\\lambda)=\\sum_{i=1}^n\\log(A^T\\lambda)_i-\\lambda b^T+n\n",
    "$$\n",
    "\n",
    "This is the dual problem"
   ]
  },
  {
   "cell_type": "markdown",
   "metadata": {},
   "source": [
    "#### (c)\n",
    "\n",
    "From (b), we already showed that the first derivative or $L$ w.r.t. $x_i$ equals to 0 gives \n",
    "\n",
    "$$\n",
    "x_i=\\frac{1}{(A^T\\lambda)_i}\n",
    "$$"
   ]
  },
  {
   "cell_type": "code",
   "execution_count": null,
   "metadata": {},
   "outputs": [],
   "source": []
  },
  {
   "cell_type": "markdown",
   "metadata": {},
   "source": [
    "### Problem 2"
   ]
  },
  {
   "cell_type": "markdown",
   "metadata": {},
   "source": [
    "#### (a)"
   ]
  },
  {
   "cell_type": "markdown",
   "metadata": {},
   "source": [
    "\\begin{equation}\n",
    "\\left[ \\begin{array}{cc}\n",
    "H & A^T \\\\\n",
    "A & 0 \\\\\n",
    "\\end{array} \n",
    "\\right ]\n",
    "\\left[ \\begin{array}{c}\n",
    "x_1 \\\\\n",
    "x_2 \\\\\n",
    "\\end{array} \n",
    "\\right ]\n",
    "=\n",
    "\\left[ \\begin{array}{c}\n",
    "Hx_1+A^Tx_2 \\\\\n",
    "Ax_1 \\\\\n",
    "\\end{array} \n",
    "\\right ]\n",
    "\\end{equation}\n",
    "\n",
    "To see it is nonsingular, we prove its Null-space is {0}. \n",
    "\n",
    "We let the fist equation equals to 0. $Ax_1=0$. If $x_1=0$, then $Hx_1=0$. We have $A^Tx_2=0$. Because the rank of A equals to p. So $x_2$ must equal to 0. In this case, both $x_1$ and $x_2$ equal to 0.\n",
    "\n",
    "Now, we discuss under given statement, if $x_1\\ne 0$ there should be a contradition. Hence we prove Null-space of KKT matrix is {0}."
   ]
  },
  {
   "cell_type": "markdown",
   "metadata": {},
   "source": [
    "##### (i)\n",
    "If there is a $x_1\\ne 0$ that $Ax_1=0$, then we have $x_1^THx_1=-x_1^TA^Tx_2=-(Ax_1)^Tx_2=0$. This implies $Hx_1=0$, which contradict with the intersaction of A and H's Null-space is {0}.\n",
    "\n",
    "To see this, we write $H=V^TV$. As H is spsd, there always exist such V. $x_1^THx_1$ equals to $|Vx_1|^2=0$. So $Vx_1=0$. So $V^TVx_1=Hx_1=0$"
   ]
  },
  {
   "cell_type": "markdown",
   "metadata": {},
   "source": [
    "##### (ii)\n",
    "\n",
    "If $x_1 \\ne 0$, then $Hx_1=-A^Tx_2$. We multiply $x_1^T$ from left and get $x_1^THx_1=-x_1^TA^Tx_2=-(Ax_1)^Tx_2=0$. But by statement, $Ax=0$ and $x\\ne 0$ implies $x^THx>0$, this causes contradiction. So $x_1$ must equal to 0 and $x_2$ must equal to 0 as well. Hence we prove the Null-space of KKT matrix is {0}.\n"
   ]
  },
  {
   "cell_type": "markdown",
   "metadata": {},
   "source": [
    "##### (iii)\n",
    "Because $F^THF$ is spd, $y^TF^THFy>0$ for any $y\\ne 0$. And $Fy$ belongs to range of F. Because range of F is also the Null-space of A. We have $AFy=0$.\n",
    "\n",
    "Let us regard $Fy$ as x. So for any x where $Ax=0$ and $x\\ne 0$, we have $x^THx>0$. This goes back to (ii). So we have KKT matrix is nonsingular."
   ]
  },
  {
   "cell_type": "markdown",
   "metadata": {},
   "source": [
    "##### (iv)\n",
    "$x_1^T(H+A^TQA)x_1>0$ for any $x_1\\ne 0$.\n",
    "\n",
    "So $Ax=0$ and $x\\ne 0$ implies $x_1^T(H+A^TQA)x_1=x_1^THx_1>0$. This goes back to (ii) hence we have KKT matrix is nonsingular. "
   ]
  },
  {
   "cell_type": "markdown",
   "metadata": {},
   "source": [
    "#### (b)"
   ]
  },
  {
   "cell_type": "code",
   "execution_count": null,
   "metadata": {},
   "outputs": [],
   "source": []
  }
 ],
 "metadata": {
  "kernelspec": {
   "display_name": "Python 3",
   "language": "python",
   "name": "python3"
  },
  "language_info": {
   "codemirror_mode": {
    "name": "ipython",
    "version": 3
   },
   "file_extension": ".py",
   "mimetype": "text/x-python",
   "name": "python",
   "nbconvert_exporter": "python",
   "pygments_lexer": "ipython3",
   "version": "3.7.0"
  }
 },
 "nbformat": 4,
 "nbformat_minor": 2
}
